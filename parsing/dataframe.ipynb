{
 "cells": [
  {
   "cell_type": "markdown",
   "metadata": {},
   "source": [
    "# Filename parsing"
   ]
  },
  {
   "cell_type": "markdown",
   "metadata": {},
   "source": [
    "## Introduction"
   ]
  },
  {
   "cell_type": "markdown",
   "metadata": {},
   "source": [
    "piece of code that delves into the intricacies of space weather monitoring using data from the China Seismo-Electromagnetic Satellite (CSES). "
   ]
  },
  {
   "cell_type": "markdown",
   "metadata": {},
   "source": [
    "## Project Setup"
   ]
  },
  {
   "cell_type": "markdown",
   "metadata": {},
   "source": [
    "The project directory, named CSES_files, serves as the repository for our data files. These files, stored in `HDF5` format, contain valuable measurements from various instruments aboard the CSES satellite. The initial step involves importing the necessary libraries:"
   ]
  },
  {
   "cell_type": "code",
   "execution_count": 7,
   "metadata": {},
   "outputs": [],
   "source": [
    "import os\n",
    "import geopandas as gpd\n",
    "import pandas as pd\n",
    "import numpy as np\n",
    "from datetime import datetime, timezone\n",
    "import h5py\n",
    "import matplotlib.pyplot as plt\n",
    "import matplotlib.colors as colors\n",
    "import xarray as xr\n",
    "import xarray\n",
    "from shapely import geometry\n",
    "from glob import glob"
   ]
  },
  {
   "cell_type": "markdown",
   "metadata": {},
   "source": [
    "Each library plays a crucial role in data manipulation, visualization, and geographic data handling. For instance, `xarray` is used for handling **multi-dimensional arrays** efficiently, while `geopandas` provides tools for **geographic data manipulation**."
   ]
  },
  {
   "cell_type": "markdown",
   "metadata": {},
   "source": [
    "## File Paths and Dataset Handling"
   ]
  },
  {
   "cell_type": "markdown",
   "metadata": {},
   "source": [
    "### define project directory and the names for different datasets"
   ]
  },
  {
   "cell_type": "markdown",
   "metadata": {},
   "source": [
    "The code begins by defining the project directory and listing the `HDF5` files to be processed:"
   ]
  },
  {
   "cell_type": "code",
   "execution_count": 22,
   "metadata": {},
   "outputs": [
    {
     "name": "stdout",
     "output_type": "stream",
     "text": [
      "Percorso cartella di progetto: ../CSESfiles\n"
     ]
    }
   ],
   "source": [
    "project_dir = \"/home/wvuser/CSESfiles\"\n",
    "\n",
    "print(f\"Percorso cartella di progetto: {project_dir}\")\n",
    "\n",
    "EFD1 = 'CSES_01_EFD_1_L02_A1_213330_20211206_164953_20211206_172707_000.h5'\n",
    "HEP1 = 'CSES_01_HEP_1_L02_A4_176401_20210407_182209_20210407_190029_000.h5'\n",
    "HEP4 = 'CSES_01_HEP_4_L02_A4_202091_20210923_184621_20210923_192441_000.h5'\n",
    "LAP1 = 'CSES_01_LAP_1_L02_A3_174201_20210324_070216_20210324_073942_000.h5'\n",
    "SCM1 = 'CSES_01_SCM_1_L02_A2_183380_20210523_154551_20210523_162126_000.h5'\n",
    "HEPD = 'CSES_HEP_DDD_0219741_20220117_214156_20220117_230638_L3_0000267631.h5'\n"
   ]
  },
  {
   "cell_type": "markdown",
   "metadata": {},
   "source": [
    "The `dataset` function is then defined to open an `xarray` dataset from a given file path:"
   ]
  },
  {
   "cell_type": "code",
   "execution_count": 23,
   "metadata": {},
   "outputs": [],
   "source": [
    "# Function to open an xarray dataset from a given path\n",
    "def dataset(path):\n",
    "    return xarray.open_dataset(path, engine = 'h5netcdf', phony_dims = 'sort')\n",
    "\n",
    "# Function to list all variable names in a dataset\n",
    "def variables(data):\n",
    "    return list(data.keys())"
   ]
  },
  {
   "cell_type": "markdown",
   "metadata": {},
   "source": [
    "### List of file paths to be processed"
   ]
  },
  {
   "cell_type": "code",
   "execution_count": 24,
   "metadata": {},
   "outputs": [
    {
     "name": "stdout",
     "output_type": "stream",
     "text": [
      "../CSESfiles/CSES_01_EFD_1_L02_A1_213330_20211206_164953_20211206_172707_000.h5\n"
     ]
    }
   ],
   "source": [
    "\n",
    "file_list = [\n",
    "    os.path.join(project_dir, EFD1),\n",
    "    os.path.join(project_dir, HEP1),\n",
    "    os.path.join(project_dir, HEP4),\n",
    "    os.path.join(project_dir, LAP1),\n",
    "    os.path.join(project_dir, SCM1),\n",
    "    os.path.join(project_dir, HEPD)\n",
    "]\n",
    "\n",
    "print(file_list[0])\n",
    "\n",
    "# Redefine the dataset function to open xarray datasets\n",
    "def dataset(path):\n",
    "    return xarray.open_dataset(path, engine = 'h5netcdf', phony_dims = 'sort')\n",
    "\n",
    "# Redefine the variables function to list all variable names in a dataset\n",
    "def variables(data):\n",
    "    return list(data.keys())\n",
    "\n"
   ]
  },
  {
   "cell_type": "markdown",
   "metadata": {},
   "source": [
    "## Extracting Metadata"
   ]
  },
  {
   "cell_type": "markdown",
   "metadata": {},
   "source": [
    "To understand the data better, the code extracts `metadata` such as `start` and `end dates`, and `orbit numbers` from the filenames. This is achieved using the `extract_dates` and `extract_orbit` functions:"
   ]
  },
  {
   "cell_type": "markdown",
   "metadata": {},
   "source": [
    "### Extract satellite number from a file name"
   ]
  },
  {
   "cell_type": "code",
   "execution_count": 25,
   "metadata": {},
   "outputs": [],
   "source": [
    "def extract_satellite_number(file_name):\n",
    "    try:\n",
    "        parts = file_name.split('_')\n",
    "        satellite_number = parts[1]\n",
    "        return satellite_number\n",
    "    except IndexError:\n",
    "        print(f\"Errore nell'estrazione del numero del satellite per il file {file_name}\")\n",
    "        return None"
   ]
  },
  {
   "cell_type": "markdown",
   "metadata": {},
   "source": [
    "### Extract instrument code from a file name"
   ]
  },
  {
   "cell_type": "code",
   "execution_count": 12,
   "metadata": {},
   "outputs": [],
   "source": [
    "def extract_instrument_code(file_name):\n",
    "    try:\n",
    "        parts = file_name.split('_')\n",
    "        instrument_code = parts[2]\n",
    "        return instrument_code\n",
    "    except IndexError:\n",
    "        print(f\"Errore nell'estrazione del codice strumento per il file {file_name}\")\n",
    "        return None"
   ]
  },
  {
   "cell_type": "markdown",
   "metadata": {},
   "source": [
    "### Extract instrument number from a file name"
   ]
  },
  {
   "cell_type": "code",
   "execution_count": 13,
   "metadata": {},
   "outputs": [],
   "source": [
    "def extract_instrument_number(file_name):\n",
    "    try:\n",
    "        parts = file_name.split('_')\n",
    "        instrument_number = parts[3]\n",
    "        return instrument_number\n",
    "    except IndexError:\n",
    "        print(f\"Errore nell'estrazione del numero strumento per il file {file_name}\")\n",
    "        return None"
   ]
  },
  {
   "cell_type": "markdown",
   "metadata": {},
   "source": [
    "### Extract data level from a file name"
   ]
  },
  {
   "cell_type": "code",
   "execution_count": 14,
   "metadata": {},
   "outputs": [],
   "source": [
    "def extract_data_level(file_name):\n",
    "    try:\n",
    "        parts = file_name.split('_')\n",
    "        data_level = parts[4]\n",
    "        return data_level\n",
    "    except IndexError:\n",
    "        print(f\"Errore nell'estrazione del livello dei dati per il file {file_name}\")\n",
    "        return None"
   ]
  },
  {
   "cell_type": "markdown",
   "metadata": {},
   "source": [
    "### Extract orbit number from a file name"
   ]
  },
  {
   "cell_type": "code",
   "execution_count": 15,
   "metadata": {},
   "outputs": [],
   "source": [
    "def extract_orbit(file_name):\n",
    "    try:\n",
    "        base_name = os.path.basename(file_name)\n",
    "        parts = base_name.split('_')\n",
    "        start_index = None\n",
    "        for i in range(len(parts)):\n",
    "            if parts[i].isdigit() and len(parts[i]) == 8: \n",
    "                start_index = i\n",
    "                break\n",
    "    \n",
    "        if start_index is None:\n",
    "            raise ValueError(f\"Formato data non trovato nel nome del file: {file_name}\")\n",
    "        \n",
    "        orbit = parts[start_index - 1]  \n",
    "        return orbit\n",
    "    except ValueError as e:\n",
    "        print(f\"Errore nel parsing dell'orbita per il file {file_name}: {e}\")\n",
    "        return None"
   ]
  },
  {
   "cell_type": "markdown",
   "metadata": {},
   "source": [
    "### Extract start and end dates from a file name"
   ]
  },
  {
   "cell_type": "code",
   "execution_count": 16,
   "metadata": {},
   "outputs": [],
   "source": [
    "\n",
    "def extract_dates(file_name):\n",
    "    try:\n",
    "        base_name = os.path.basename(file_name) #returns the final component of a pathname\n",
    "        parts = base_name.split('_')\n",
    "        \n",
    "        #find the index of the part that contains the start_date\n",
    "        start_index = None\n",
    "        for i in range(len(parts)):\n",
    "            if parts[i].isdigit() and len(parts[i]) == 8:  # find the part with data format YYYYMMDD\n",
    "                start_index = i\n",
    "                break\n",
    "        \n",
    "        if start_index is None:\n",
    "            raise ValueError(f\"Formato data non trovato nel nome del file: {file_name}\")\n",
    "        \n",
    "        start_date_str = '_'.join(parts[start_index:start_index + 2]) \n",
    "        end_date_str = '_'.join(parts[start_index + 2:start_index + 4])  \n",
    "        \n",
    "        start_date = datetime.strptime(start_date_str, '%Y%m%d_%H%M%S')\n",
    "        end_date = datetime.strptime(end_date_str, '%Y%m%d_%H%M%S')\n",
    "        \n",
    "        return start_date, end_date\n",
    "    except ValueError as e:\n",
    "        print(f\"Errore nel parsing delle date per il file {file_name}: {e}\")\n",
    "        return None, None"
   ]
  },
  {
   "cell_type": "markdown",
   "metadata": {},
   "source": [
    "### parse_filename function to include the data\n"
   ]
  },
  {
   "cell_type": "code",
   "execution_count": 17,
   "metadata": {},
   "outputs": [],
   "source": [
    "def parse_filename(file_name):\n",
    "    satellite_nr = extract_satellite_number(file_name)\n",
    "    instrument_code = extract_instrument_code(file_name)\n",
    "    instrument_nr = extract_instrument_number(file_name)\n",
    "    data_l = extract_data_level(file_name)\n",
    "    start_date, end_date = extract_dates(file_name)\n",
    "    semiorbit_nr = extract_orbit(file_name)\n",
    "    return {\n",
    "        'file_name': file_name,\n",
    "        \"satellite_nr\": satellite_nr,\n",
    "        \"instrument_code\": instrument_code,\n",
    "        \"instrument_nr\": instrument_nr,\n",
    "        \"data_l\":data_l,\n",
    "        \"semiorbit_nr\": semiorbit_nr,\n",
    "        \"start_date\": start_date, \n",
    "        \"end_date\" : end_date\n",
    "    }"
   ]
  },
  {
   "cell_type": "markdown",
   "metadata": {},
   "source": [
    "## Creating the DataFrame"
   ]
  },
  {
   "cell_type": "markdown",
   "metadata": {},
   "source": [
    "The parsed metadata is stored in a list of dictionaries, which is then converted into a pandas DataFrame:"
   ]
  },
  {
   "cell_type": "code",
   "execution_count": 26,
   "metadata": {},
   "outputs": [
    {
     "data": {
      "text/html": [
       "<div>\n",
       "<style scoped>\n",
       "    .dataframe tbody tr th:only-of-type {\n",
       "        vertical-align: middle;\n",
       "    }\n",
       "\n",
       "    .dataframe tbody tr th {\n",
       "        vertical-align: top;\n",
       "    }\n",
       "\n",
       "    .dataframe thead th {\n",
       "        text-align: right;\n",
       "    }\n",
       "</style>\n",
       "<table border=\"1\" class=\"dataframe\">\n",
       "  <thead>\n",
       "    <tr style=\"text-align: right;\">\n",
       "      <th></th>\n",
       "      <th>file_name</th>\n",
       "      <th>satellite_nr</th>\n",
       "      <th>instrument_code</th>\n",
       "      <th>instrument_nr</th>\n",
       "      <th>data_l</th>\n",
       "      <th>semiorbit_nr</th>\n",
       "      <th>start_date</th>\n",
       "      <th>end_date</th>\n",
       "    </tr>\n",
       "  </thead>\n",
       "  <tbody>\n",
       "    <tr>\n",
       "      <th>0</th>\n",
       "      <td>../CSESfiles/CSES_01_EFD_1_L02_A1_213330_20211...</td>\n",
       "      <td>01</td>\n",
       "      <td>EFD</td>\n",
       "      <td>1</td>\n",
       "      <td>L02</td>\n",
       "      <td>213330</td>\n",
       "      <td>2021-12-06 16:49:53</td>\n",
       "      <td>2021-12-06 17:27:07</td>\n",
       "    </tr>\n",
       "    <tr>\n",
       "      <th>1</th>\n",
       "      <td>../CSESfiles/CSES_01_HEP_1_L02_A4_176401_20210...</td>\n",
       "      <td>01</td>\n",
       "      <td>HEP</td>\n",
       "      <td>1</td>\n",
       "      <td>L02</td>\n",
       "      <td>176401</td>\n",
       "      <td>2021-04-07 18:22:09</td>\n",
       "      <td>2021-04-07 19:00:29</td>\n",
       "    </tr>\n",
       "    <tr>\n",
       "      <th>2</th>\n",
       "      <td>../CSESfiles/CSES_01_HEP_4_L02_A4_202091_20210...</td>\n",
       "      <td>01</td>\n",
       "      <td>HEP</td>\n",
       "      <td>4</td>\n",
       "      <td>L02</td>\n",
       "      <td>202091</td>\n",
       "      <td>2021-09-23 18:46:21</td>\n",
       "      <td>2021-09-23 19:24:41</td>\n",
       "    </tr>\n",
       "    <tr>\n",
       "      <th>3</th>\n",
       "      <td>../CSESfiles/CSES_01_LAP_1_L02_A3_174201_20210...</td>\n",
       "      <td>01</td>\n",
       "      <td>LAP</td>\n",
       "      <td>1</td>\n",
       "      <td>L02</td>\n",
       "      <td>174201</td>\n",
       "      <td>2021-03-24 07:02:16</td>\n",
       "      <td>2021-03-24 07:39:42</td>\n",
       "    </tr>\n",
       "    <tr>\n",
       "      <th>4</th>\n",
       "      <td>../CSESfiles/CSES_01_SCM_1_L02_A2_183380_20210...</td>\n",
       "      <td>01</td>\n",
       "      <td>SCM</td>\n",
       "      <td>1</td>\n",
       "      <td>L02</td>\n",
       "      <td>183380</td>\n",
       "      <td>2021-05-23 15:45:51</td>\n",
       "      <td>2021-05-23 16:21:26</td>\n",
       "    </tr>\n",
       "    <tr>\n",
       "      <th>5</th>\n",
       "      <td>../CSESfiles/CSES_HEP_DDD_0219741_20220117_214...</td>\n",
       "      <td>HEP</td>\n",
       "      <td>DDD</td>\n",
       "      <td>0219741</td>\n",
       "      <td>20220117</td>\n",
       "      <td>0219741</td>\n",
       "      <td>2022-01-17 21:41:56</td>\n",
       "      <td>2022-01-17 23:06:38</td>\n",
       "    </tr>\n",
       "  </tbody>\n",
       "</table>\n",
       "</div>"
      ],
      "text/plain": [
       "                                           file_name satellite_nr  \\\n",
       "0  ../CSESfiles/CSES_01_EFD_1_L02_A1_213330_20211...           01   \n",
       "1  ../CSESfiles/CSES_01_HEP_1_L02_A4_176401_20210...           01   \n",
       "2  ../CSESfiles/CSES_01_HEP_4_L02_A4_202091_20210...           01   \n",
       "3  ../CSESfiles/CSES_01_LAP_1_L02_A3_174201_20210...           01   \n",
       "4  ../CSESfiles/CSES_01_SCM_1_L02_A2_183380_20210...           01   \n",
       "5  ../CSESfiles/CSES_HEP_DDD_0219741_20220117_214...          HEP   \n",
       "\n",
       "  instrument_code instrument_nr    data_l semiorbit_nr          start_date  \\\n",
       "0             EFD             1       L02       213330 2021-12-06 16:49:53   \n",
       "1             HEP             1       L02       176401 2021-04-07 18:22:09   \n",
       "2             HEP             4       L02       202091 2021-09-23 18:46:21   \n",
       "3             LAP             1       L02       174201 2021-03-24 07:02:16   \n",
       "4             SCM             1       L02       183380 2021-05-23 15:45:51   \n",
       "5             DDD       0219741  20220117      0219741 2022-01-17 21:41:56   \n",
       "\n",
       "             end_date  \n",
       "0 2021-12-06 17:27:07  \n",
       "1 2021-04-07 19:00:29  \n",
       "2 2021-09-23 19:24:41  \n",
       "3 2021-03-24 07:39:42  \n",
       "4 2021-05-23 16:21:26  \n",
       "5 2022-01-17 23:06:38  "
      ]
     },
     "execution_count": 26,
     "metadata": {},
     "output_type": "execute_result"
    }
   ],
   "source": [
    "data = []\n",
    "\n",
    "for file in file_list:\n",
    "    metadata = parse_filename(file)\n",
    "    if metadata:\n",
    "        data.append(metadata)\n",
    "    #metadata[\"semiorbit_nr\"]\n",
    "    #semiorbits_geo[metadata[\"semiorbit_nr\"]]\n",
    "    # {\n",
    "    #     \"start_date\": ...\n",
    "    #     \"start_date\": ...\n",
    "    #     \"start_date\": ...\n",
    "    # }\n",
    "if data:\n",
    "    columns = list(data[0].keys())\n",
    "else:\n",
    "    columns = []\n",
    "\n",
    "\n",
    "df = pd.DataFrame(data, columns=columns)\n",
    "\n",
    "df"
   ]
  },
  {
   "cell_type": "markdown",
   "metadata": {},
   "source": [
    "## Geographic Data Handling"
   ]
  },
  {
   "cell_type": "markdown",
   "metadata": {},
   "source": [
    "The `polygon` function allows us to create a polygon from geographic coordinates and filter out data points that fall outside this polygon:"
   ]
  },
  {
   "cell_type": "code",
   "execution_count": 27,
   "metadata": {},
   "outputs": [],
   "source": [
    "def polygon(points, data):\n",
    "    \n",
    "    ds = dataset(data)\n",
    "\n",
    "    geo_lat = ds.GEO_LAT\n",
    "    geo_lon = ds.GEO_LON\n",
    "\n",
    "\n",
    "    latitudes = [point[1] for point in points]\n",
    "    longitudes = [point[0] for point in points]\n",
    "\n",
    "    lat_min = min(latitudes)\n",
    "    lat_max = max(latitudes)\n",
    "    lon_min = min(longitudes)\n",
    "    lon_max = max(longitudes)\n",
    "\n",
    "    lat_mask = (geo_lat >= lat_min) & (geo_lat <= lat_max)\n",
    "    lon_mask = (geo_lon >= lon_min) & (geo_lon <= lon_max)\n",
    "\n",
    "    print(f\"Bounding Box - lat_min: {lat_min}, lat_max: {lat_max}, lon_min: {lon_min}, lon_max: {lon_max}\")\n",
    "\n",
    "    final_mask = lat_mask + lon_mask\n",
    "\n",
    "    filtered_subset = ds.where(final_mask, drop=True)\n",
    "\n",
    "    if filtered_subset.GEO_LAT.size > 0 and filtered_subset.GEO_LON.size > 0:\n",
    "        return(filtered_subset)"
   ]
  },
  {
   "cell_type": "code",
   "execution_count": 36,
   "metadata": {},
   "outputs": [
    {
     "name": "stdout",
     "output_type": "stream",
     "text": [
      "100.0\n",
      "Bounding Box - lat_min: 30.0, lat_max: 50.0, lon_min: 100.0, lon_max: 120.0\n",
      "[[49.799263]\n",
      " [49.551105]\n",
      " [49.302788]\n",
      " [49.054546]\n",
      " [48.806183]\n",
      " [48.557766]\n",
      " [48.309265]\n",
      " [48.060722]\n",
      " [47.81199 ]\n",
      " [47.563324]\n",
      " [47.314693]\n",
      " [47.065945]\n",
      " [46.81712 ]\n",
      " [46.568317]\n",
      " [46.319332]\n",
      " [46.07037 ]\n",
      " [45.821404]\n",
      " [45.572334]\n",
      " [45.323208]\n",
      " [45.074005]\n",
      " [44.824776]\n",
      " [44.57549 ]\n",
      " [44.32623 ]\n",
      " [44.07692 ]\n",
      " [43.827507]\n",
      " [43.578064]\n",
      " [43.32856 ]\n",
      " [43.079006]\n",
      " [42.829395]\n",
      " [42.579796]\n",
      " [42.330025]\n",
      " [42.080254]\n",
      " [41.83038 ]\n",
      " [41.580593]\n",
      " [41.330654]\n",
      " [41.08075 ]\n",
      " [40.830875]\n",
      " [40.580894]\n",
      " [40.330795]\n",
      " [40.0808  ]\n",
      " [39.830696]\n",
      " [39.580563]\n",
      " [39.330418]\n",
      " [39.080288]\n",
      " [38.83001 ]\n",
      " [38.579742]\n",
      " [38.329525]\n",
      " [38.079185]\n",
      " [37.828888]\n",
      " [37.578537]\n",
      " [37.328022]\n",
      " [37.077538]\n",
      " [36.827003]\n",
      " [36.576504]\n",
      " [36.325848]\n",
      " [36.075237]\n",
      " [35.8246  ]\n",
      " [35.573925]\n",
      " [35.32315 ]\n",
      " [35.07246 ]\n",
      " [34.821697]\n",
      " [34.570885]\n",
      " [34.319992]\n",
      " [34.0692  ]\n",
      " [33.818325]\n",
      " [33.56743 ]\n",
      " [33.316544]\n",
      " [33.065598]\n",
      " [32.8146  ]\n",
      " [32.563675]\n",
      " [32.31258 ]\n",
      " [32.061523]\n",
      " [31.81058 ]\n",
      " [31.55946 ]\n",
      " [31.308262]\n",
      " [31.057089]\n",
      " [30.805937]\n",
      " [30.554678]\n",
      " [30.303389]\n",
      " [30.052143]]\n"
     ]
    }
   ],
   "source": [
    "polygon_points = [(100.0, 30.0), (120.0, 30.0), (120.0, 50.0), (100.0, 50.0)]\n",
    "print(polygon_points[0][0])\n",
    "\n",
    "#Test the polygon function with a polygon and one of the data files\n",
    "filtered_points = polygon(polygon_points, file_list[0])\n",
    "\n",
    "print(filtered_points.GEO_LAT.values)"
   ]
  },
  {
   "cell_type": "code",
   "execution_count": null,
   "metadata": {},
   "outputs": [],
   "source": []
  },
  {
   "cell_type": "code",
   "execution_count": null,
   "metadata": {},
   "outputs": [],
   "source": []
  },
  {
   "cell_type": "code",
   "execution_count": null,
   "metadata": {},
   "outputs": [],
   "source": []
  }
 ],
 "metadata": {
  "kernelspec": {
   "display_name": ".venv",
   "language": "python",
   "name": "python3"
  },
  "language_info": {
   "codemirror_mode": {
    "name": "ipython",
    "version": 3
   },
   "file_extension": ".py",
   "mimetype": "text/x-python",
   "name": "python",
   "nbconvert_exporter": "python",
   "pygments_lexer": "ipython3",
   "version": "3.12.3"
  }
 },
 "nbformat": 4,
 "nbformat_minor": 2
}
