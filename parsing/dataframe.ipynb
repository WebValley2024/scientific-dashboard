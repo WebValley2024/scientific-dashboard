{
 "cells": [
  {
   "cell_type": "markdown",
   "metadata": {},
   "source": [
    "# Filename parsing"
   ]
  },
  {
   "cell_type": "markdown",
   "metadata": {},
   "source": [
    "## Introduction"
   ]
  },
  {
   "cell_type": "markdown",
   "metadata": {},
   "source": [
    "piece of code that delves into the intricacies of space weather monitoring using data from the China Seismo-Electromagnetic Satellite (CSES). "
   ]
  },
  {
   "cell_type": "markdown",
   "metadata": {},
   "source": [
    "## Project Setup"
   ]
  },
  {
   "cell_type": "markdown",
   "metadata": {},
   "source": [
    "The project directory, named CSES_files, serves as the repository for our data files. These files, stored in `HDF5` format, contain valuable measurements from various instruments aboard the CSES satellite. The initial step involves importing the necessary libraries:"
   ]
  },
  {
   "cell_type": "code",
   "execution_count": 2,
   "metadata": {},
   "outputs": [],
   "source": [
    "import os\n",
    "import geopandas as gpd\n",
    "import pandas as pd\n",
    "import numpy as np\n",
    "from datetime import datetime, timezone\n",
    "import h5py\n",
    "import matplotlib.pyplot as plt\n",
    "import matplotlib.colors as colors\n",
    "import xarray as xr\n",
    "import xarray\n",
    "from shapely import geometry\n",
    "from glob import glob\n",
    "from shapely.geometry import Point, box"
   ]
  },
  {
   "cell_type": "markdown",
   "metadata": {},
   "source": [
    "Each library plays a crucial role in data manipulation, visualization, and geographic data handling. For instance, `xarray` is used for handling **multi-dimensional arrays** efficiently, while `geopandas` provides tools for **geographic data manipulation**."
   ]
  },
  {
   "cell_type": "markdown",
   "metadata": {},
   "source": [
    "## File Paths and Dataset Handling"
   ]
  },
  {
   "cell_type": "markdown",
   "metadata": {},
   "source": [
    "### define project directory and the names for different datasets"
   ]
  },
  {
   "cell_type": "markdown",
   "metadata": {},
   "source": [
    "The code begins by defining the project directory and listing the `HDF5` files to be processed:"
   ]
  },
  {
   "cell_type": "code",
   "execution_count": 3,
   "metadata": {},
   "outputs": [
    {
     "name": "stdout",
     "output_type": "stream",
     "text": [
      "Percorso cartella di progetto: /home/wvuser/CSESfiles\n"
     ]
    }
   ],
   "source": [
    "project_dir = \"/home/wvuser/CSESfiles\"\n",
    "\n",
    "print(f\"Percorso cartella di progetto: {project_dir}\")\n",
    "\n",
    "EFD1 = 'CSES_01_EFD_1_L02_A1_213330_20211206_164953_20211206_172707_000.h5'\n",
    "HEP1 = 'CSES_01_HEP_1_L02_A4_176401_20210407_182209_20210407_190029_000.h5'\n",
    "HEP4 = 'CSES_01_HEP_4_L02_A4_202091_20210923_184621_20210923_192441_000.h5'\n",
    "LAP1 = 'CSES_01_LAP_1_L02_A3_174201_20210324_070216_20210324_073942_000.h5'\n",
    "SCM1 = 'CSES_01_SCM_1_L02_A2_183380_20210523_154551_20210523_162126_000.h5'\n",
    "HEPD = 'CSES_HEP_DDD_0219741_20220117_214156_20220117_230638_L3_0000267631.h5'\n"
   ]
  },
  {
   "cell_type": "markdown",
   "metadata": {},
   "source": [
    "The `dataset` function is then defined to open an `xarray` dataset from a given file path:"
   ]
  },
  {
   "cell_type": "code",
   "execution_count": 4,
   "metadata": {},
   "outputs": [],
   "source": [
    "# Function to open an xarray dataset from a given path\n",
    "def dataset(path):\n",
    "    return xarray.open_dataset(path, engine = 'h5netcdf', phony_dims = 'sort')\n",
    "\n",
    "# Function to list all variable names in a dataset\n",
    "def variables(data):\n",
    "    return list(data.keys())"
   ]
  },
  {
   "cell_type": "markdown",
   "metadata": {},
   "source": [
    "### List of file paths to be processed"
   ]
  },
  {
   "cell_type": "code",
   "execution_count": 5,
   "metadata": {},
   "outputs": [
    {
     "name": "stdout",
     "output_type": "stream",
     "text": [
      "/home/wvuser/CSESfiles/CSES_01_EFD_1_L02_A1_213330_20211206_164953_20211206_172707_000.h5\n"
     ]
    }
   ],
   "source": [
    "\n",
    "file_list = [\n",
    "    os.path.join(project_dir, EFD1),\n",
    "    os.path.join(project_dir, HEP1),\n",
    "    os.path.join(project_dir, HEP4),\n",
    "    os.path.join(project_dir, LAP1),\n",
    "    os.path.join(project_dir, SCM1),\n",
    "    os.path.join(project_dir, HEPD)\n",
    "]\n",
    "\n",
    "print(file_list[0])\n",
    "\n",
    "# Redefine the dataset function to open xarray datasets\n",
    "def dataset(path):\n",
    "    return xarray.open_dataset(path, engine = 'h5netcdf', phony_dims = 'sort')\n",
    "\n",
    "# Redefine the variables function to list all variable names in a dataset\n",
    "def variables(data):\n",
    "    return list(data.keys())\n",
    "\n"
   ]
  },
  {
   "cell_type": "markdown",
   "metadata": {},
   "source": [
    "## Extracting Metadata"
   ]
  },
  {
   "cell_type": "markdown",
   "metadata": {},
   "source": [
    "To understand the data better, the code extracts `metadata` such as `start` and `end dates`, and `orbit numbers` from the filenames. This is achieved using the `extract_dates` and `extract_orbit` functions:"
   ]
  },
  {
   "cell_type": "markdown",
   "metadata": {},
   "source": [
    "### Extract the name from a file name"
   ]
  },
  {
   "cell_type": "code",
   "execution_count": 6,
   "metadata": {},
   "outputs": [],
   "source": [
    "def get_file_name(file_path):\n",
    "    return os.path.basename(file_path)"
   ]
  },
  {
   "cell_type": "markdown",
   "metadata": {},
   "source": [
    "### Extract satellite number from a file name"
   ]
  },
  {
   "cell_type": "code",
   "execution_count": 7,
   "metadata": {},
   "outputs": [],
   "source": [
    "def extract_satellite_number(file_name):\n",
    "    try:\n",
    "        parts = file_name.split('_')\n",
    "        satellite_number = parts[1]\n",
    "        return satellite_number\n",
    "    except IndexError:\n",
    "        print(f\"Errore nell'estrazione del numero del satellite per il file {file_name}\")\n",
    "        return None"
   ]
  },
  {
   "cell_type": "markdown",
   "metadata": {},
   "source": [
    "### Extract instrument code from a file name"
   ]
  },
  {
   "cell_type": "code",
   "execution_count": 8,
   "metadata": {},
   "outputs": [],
   "source": [
    "def extract_instrument_code(file_name):\n",
    "    try:\n",
    "        parts = file_name.split('_')\n",
    "        instrument_code = parts[2]\n",
    "        return instrument_code\n",
    "    except IndexError:\n",
    "        print(f\"Errore nell'estrazione del codice strumento per il file {file_name}\")\n",
    "        return None"
   ]
  },
  {
   "cell_type": "markdown",
   "metadata": {},
   "source": [
    "### Extract instrument number from a file name"
   ]
  },
  {
   "cell_type": "code",
   "execution_count": 9,
   "metadata": {},
   "outputs": [],
   "source": [
    "def extract_instrument_number(file_name):\n",
    "    try:\n",
    "        parts = file_name.split('_')\n",
    "        instrument_number = parts[3]\n",
    "        return instrument_number\n",
    "    except IndexError:\n",
    "        print(f\"Errore nell'estrazione del numero strumento per il file {file_name}\")\n",
    "        return None"
   ]
  },
  {
   "cell_type": "markdown",
   "metadata": {},
   "source": [
    "### Extract data level from a file name"
   ]
  },
  {
   "cell_type": "code",
   "execution_count": 10,
   "metadata": {},
   "outputs": [],
   "source": [
    "def extract_data_level(file_name):\n",
    "    try:\n",
    "        parts = file_name.split('_')\n",
    "        data_level = parts[4]\n",
    "        return data_level\n",
    "    except IndexError:\n",
    "        print(f\"Errore nell'estrazione del livello dei dati per il file {file_name}\")\n",
    "        return None"
   ]
  },
  {
   "cell_type": "markdown",
   "metadata": {},
   "source": [
    "### Extract orbit number from a file name"
   ]
  },
  {
   "cell_type": "code",
   "execution_count": 11,
   "metadata": {},
   "outputs": [],
   "source": [
    "def extract_orbit(file_name):\n",
    "    try:\n",
    "        base_name = os.path.basename(file_name)\n",
    "        parts = base_name.split('_')\n",
    "        start_index = None\n",
    "        for i in range(len(parts)):\n",
    "            if parts[i].isdigit() and len(parts[i]) == 8: \n",
    "                start_index = i\n",
    "                break\n",
    "    \n",
    "        if start_index is None:\n",
    "            raise ValueError(f\"Formato data non trovato nel nome del file: {file_name}\")\n",
    "        \n",
    "        orbit = parts[start_index - 1]  \n",
    "        return orbit\n",
    "    except ValueError as e:\n",
    "        print(f\"Errore nel parsing dell'orbita per il file {file_name}: {e}\")\n",
    "        return None"
   ]
  },
  {
   "cell_type": "markdown",
   "metadata": {},
   "source": [
    "### Extract start and end dates from a file name"
   ]
  },
  {
   "cell_type": "code",
   "execution_count": 12,
   "metadata": {},
   "outputs": [],
   "source": [
    "\n",
    "def extract_dates(file_name):\n",
    "    try:\n",
    "        base_name = os.path.basename(file_name) #returns the final component of a pathname\n",
    "        parts = base_name.split('_')\n",
    "        \n",
    "        #find the index of the part that contains the start_date\n",
    "        start_index = None\n",
    "        for i in range(len(parts)):\n",
    "            if parts[i].isdigit() and len(parts[i]) == 8:  # find the part with data format YYYYMMDD\n",
    "                start_index = i\n",
    "                break\n",
    "        \n",
    "        if start_index is None:\n",
    "            raise ValueError(f\"Formato data non trovato nel nome del file: {file_name}\")\n",
    "        \n",
    "        start_date_str = '_'.join(parts[start_index:start_index + 2]) \n",
    "        end_date_str = '_'.join(parts[start_index + 2:start_index + 4])  \n",
    "        \n",
    "        start_date = datetime.strptime(start_date_str, '%Y%m%d_%H%M%S')\n",
    "        end_date = datetime.strptime(end_date_str, '%Y%m%d_%H%M%S')\n",
    "        \n",
    "        return start_date, end_date\n",
    "    except ValueError as e:\n",
    "        print(f\"Errore nel parsing delle date per il file {file_name}: {e}\")\n",
    "        return None, None"
   ]
  },
  {
   "cell_type": "markdown",
   "metadata": {},
   "source": [
    "### parse_filename function to include the data\n"
   ]
  },
  {
   "cell_type": "code",
   "execution_count": 13,
   "metadata": {},
   "outputs": [],
   "source": [
    "def parse_filename(file_name):\n",
    "    file = get_file_name(file_name)\n",
    "    satellite_nr = extract_satellite_number(file_name)\n",
    "    instrument_code = extract_instrument_code(file_name)\n",
    "    instrument_nr = extract_instrument_number(file_name)\n",
    "    data_l = extract_data_level(file_name)\n",
    "    start_date, end_date = extract_dates(file_name)\n",
    "    semiorbit_nr = extract_orbit(file_name)\n",
    "    return {\n",
    "        'file_name': file,\n",
    "        \"satellite_nr\": satellite_nr,\n",
    "        \"instrument_code\": instrument_code,\n",
    "        \"instrument_nr\": instrument_nr,\n",
    "        \"data_l\":data_l,\n",
    "        \"semiorbit_nr\": semiorbit_nr,\n",
    "        \"start_date\": start_date, \n",
    "        \"end_date\" : end_date\n",
    "    }"
   ]
  },
  {
   "cell_type": "markdown",
   "metadata": {},
   "source": [
    "## Creating the DataFrame"
   ]
  },
  {
   "cell_type": "markdown",
   "metadata": {},
   "source": [
    "The parsed metadata is stored in a list of dictionaries, which is then converted into a pandas DataFrame:"
   ]
  },
  {
   "cell_type": "code",
   "execution_count": 14,
   "metadata": {},
   "outputs": [
    {
     "data": {
      "text/html": [
       "<div>\n",
       "<style scoped>\n",
       "    .dataframe tbody tr th:only-of-type {\n",
       "        vertical-align: middle;\n",
       "    }\n",
       "\n",
       "    .dataframe tbody tr th {\n",
       "        vertical-align: top;\n",
       "    }\n",
       "\n",
       "    .dataframe thead th {\n",
       "        text-align: right;\n",
       "    }\n",
       "</style>\n",
       "<table border=\"1\" class=\"dataframe\">\n",
       "  <thead>\n",
       "    <tr style=\"text-align: right;\">\n",
       "      <th></th>\n",
       "      <th>file_name</th>\n",
       "      <th>satellite_nr</th>\n",
       "      <th>instrument_code</th>\n",
       "      <th>instrument_nr</th>\n",
       "      <th>data_l</th>\n",
       "      <th>semiorbit_nr</th>\n",
       "      <th>start_date</th>\n",
       "      <th>end_date</th>\n",
       "    </tr>\n",
       "  </thead>\n",
       "  <tbody>\n",
       "    <tr>\n",
       "      <th>0</th>\n",
       "      <td>CSES_01_EFD_1_L02_A1_213330_20211206_164953_20...</td>\n",
       "      <td>01</td>\n",
       "      <td>EFD</td>\n",
       "      <td>1</td>\n",
       "      <td>L02</td>\n",
       "      <td>213330</td>\n",
       "      <td>2021-12-06 16:49:53</td>\n",
       "      <td>2021-12-06 17:27:07</td>\n",
       "    </tr>\n",
       "    <tr>\n",
       "      <th>1</th>\n",
       "      <td>CSES_01_HEP_1_L02_A4_176401_20210407_182209_20...</td>\n",
       "      <td>01</td>\n",
       "      <td>HEP</td>\n",
       "      <td>1</td>\n",
       "      <td>L02</td>\n",
       "      <td>176401</td>\n",
       "      <td>2021-04-07 18:22:09</td>\n",
       "      <td>2021-04-07 19:00:29</td>\n",
       "    </tr>\n",
       "    <tr>\n",
       "      <th>2</th>\n",
       "      <td>CSES_01_HEP_4_L02_A4_202091_20210923_184621_20...</td>\n",
       "      <td>01</td>\n",
       "      <td>HEP</td>\n",
       "      <td>4</td>\n",
       "      <td>L02</td>\n",
       "      <td>202091</td>\n",
       "      <td>2021-09-23 18:46:21</td>\n",
       "      <td>2021-09-23 19:24:41</td>\n",
       "    </tr>\n",
       "    <tr>\n",
       "      <th>3</th>\n",
       "      <td>CSES_01_LAP_1_L02_A3_174201_20210324_070216_20...</td>\n",
       "      <td>01</td>\n",
       "      <td>LAP</td>\n",
       "      <td>1</td>\n",
       "      <td>L02</td>\n",
       "      <td>174201</td>\n",
       "      <td>2021-03-24 07:02:16</td>\n",
       "      <td>2021-03-24 07:39:42</td>\n",
       "    </tr>\n",
       "    <tr>\n",
       "      <th>4</th>\n",
       "      <td>CSES_01_SCM_1_L02_A2_183380_20210523_154551_20...</td>\n",
       "      <td>01</td>\n",
       "      <td>SCM</td>\n",
       "      <td>1</td>\n",
       "      <td>L02</td>\n",
       "      <td>183380</td>\n",
       "      <td>2021-05-23 15:45:51</td>\n",
       "      <td>2021-05-23 16:21:26</td>\n",
       "    </tr>\n",
       "    <tr>\n",
       "      <th>5</th>\n",
       "      <td>CSES_HEP_DDD_0219741_20220117_214156_20220117_...</td>\n",
       "      <td>HEP</td>\n",
       "      <td>DDD</td>\n",
       "      <td>0219741</td>\n",
       "      <td>20220117</td>\n",
       "      <td>0219741</td>\n",
       "      <td>2022-01-17 21:41:56</td>\n",
       "      <td>2022-01-17 23:06:38</td>\n",
       "    </tr>\n",
       "  </tbody>\n",
       "</table>\n",
       "</div>"
      ],
      "text/plain": [
       "                                           file_name satellite_nr  \\\n",
       "0  CSES_01_EFD_1_L02_A1_213330_20211206_164953_20...           01   \n",
       "1  CSES_01_HEP_1_L02_A4_176401_20210407_182209_20...           01   \n",
       "2  CSES_01_HEP_4_L02_A4_202091_20210923_184621_20...           01   \n",
       "3  CSES_01_LAP_1_L02_A3_174201_20210324_070216_20...           01   \n",
       "4  CSES_01_SCM_1_L02_A2_183380_20210523_154551_20...           01   \n",
       "5  CSES_HEP_DDD_0219741_20220117_214156_20220117_...          HEP   \n",
       "\n",
       "  instrument_code instrument_nr    data_l semiorbit_nr          start_date  \\\n",
       "0             EFD             1       L02       213330 2021-12-06 16:49:53   \n",
       "1             HEP             1       L02       176401 2021-04-07 18:22:09   \n",
       "2             HEP             4       L02       202091 2021-09-23 18:46:21   \n",
       "3             LAP             1       L02       174201 2021-03-24 07:02:16   \n",
       "4             SCM             1       L02       183380 2021-05-23 15:45:51   \n",
       "5             DDD       0219741  20220117      0219741 2022-01-17 21:41:56   \n",
       "\n",
       "             end_date  \n",
       "0 2021-12-06 17:27:07  \n",
       "1 2021-04-07 19:00:29  \n",
       "2 2021-09-23 19:24:41  \n",
       "3 2021-03-24 07:39:42  \n",
       "4 2021-05-23 16:21:26  \n",
       "5 2022-01-17 23:06:38  "
      ]
     },
     "execution_count": 14,
     "metadata": {},
     "output_type": "execute_result"
    }
   ],
   "source": [
    "data = []\n",
    "\n",
    "for file in file_list:\n",
    "    metadata = parse_filename(file)\n",
    "    if metadata:\n",
    "        data.append(metadata)\n",
    "    #metadata[\"semiorbit_nr\"]\n",
    "    #semiorbits_geo[metadata[\"semiorbit_nr\"]]\n",
    "    # {\n",
    "    #     \"start_date\": ...\n",
    "    #     \"start_date\": ...\n",
    "    #     \"start_date\": ...\n",
    "    # }\n",
    "if data:\n",
    "    columns = list(data[0].keys())\n",
    "else:\n",
    "    columns = []\n",
    "\n",
    "\n",
    "df = pd.DataFrame(data, columns=columns)\n",
    "\n",
    "df"
   ]
  },
  {
   "cell_type": "markdown",
   "metadata": {},
   "source": [
    "## Geographic Data Handling"
   ]
  },
  {
   "cell_type": "markdown",
   "metadata": {},
   "source": [
    "The `polygon` function allows us to create a polygon from geographic coordinates and filter out data points that fall outside this polygon:"
   ]
  },
  {
   "cell_type": "code",
   "execution_count": 15,
   "metadata": {},
   "outputs": [],
   "source": [
    "def polygon(points, data):\n",
    "    \n",
    "    ds = dataset(data)\n",
    "\n",
    "    geo_lat = ds.GEO_LAT\n",
    "    geo_lon = ds.GEO_LON\n",
    "\n",
    "\n",
    "    latitudes = [point[1] for point in points]\n",
    "    longitudes = [point[0] for point in points]\n",
    "\n",
    "    lat_min = min(latitudes)\n",
    "    lat_max = max(latitudes)\n",
    "    lon_min = min(longitudes)\n",
    "    lon_max = max(longitudes)\n",
    "\n",
    "    lat_mask = (geo_lat >= lat_min) & (geo_lat <= lat_max)\n",
    "    lon_mask = (geo_lon >= lon_min) & (geo_lon <= lon_max)\n",
    "\n",
    "    print(f\"Bounding Box - lat_min: {lat_min}, lat_max: {lat_max}, lon_min: {lon_min}, lon_max: {lon_max}\")\n",
    "\n",
    "    final_mask = lat_mask + lon_mask\n",
    "\n",
    "    filtered_subset = ds.where(final_mask, drop=True)\n",
    "\n",
    "    if filtered_subset.GEO_LAT.size > 0 and filtered_subset.GEO_LON.size > 0:\n",
    "        return(filtered_subset)"
   ]
  },
  {
   "cell_type": "code",
   "execution_count": 16,
   "metadata": {},
   "outputs": [
    {
     "name": "stdout",
     "output_type": "stream",
     "text": [
      "100.0\n",
      "Bounding Box - lat_min: 30.0, lat_max: 50.0, lon_min: 100.0, lon_max: 120.0\n",
      "[[49.94165 ]\n",
      " [49.81457 ]\n",
      " [49.687496]\n",
      " [49.56037 ]\n",
      " [49.43323 ]\n",
      " [49.3061  ]\n",
      " [49.17893 ]\n",
      " [49.051746]\n",
      " [48.924522]\n",
      " [48.79731 ]\n",
      " [48.67008 ]\n",
      " [48.542824]\n",
      " [48.415565]\n",
      " [48.288284]\n",
      " [48.160988]\n",
      " [48.033672]\n",
      " [47.906357]\n",
      " [47.779003]\n",
      " [47.65163 ]\n",
      " [47.524273]\n",
      " [47.396866]\n",
      " [47.269478]\n",
      " [47.14204 ]\n",
      " [47.014606]\n",
      " [46.887154]\n",
      " [46.759686]\n",
      " [46.6322  ]\n",
      " [46.504692]\n",
      " [46.377213]\n",
      " [46.24968 ]\n",
      " [46.122166]\n",
      " [45.99462 ]\n",
      " [45.867058]\n",
      " [45.73951 ]\n",
      " [45.611927]\n",
      " [45.484356]\n",
      " [45.356743]\n",
      " [45.229145]\n",
      " [45.101517]\n",
      " [44.973896]\n",
      " [44.846245]\n",
      " [44.71858 ]\n",
      " [44.5909  ]\n",
      " [44.4632  ]\n",
      " [44.335487]\n",
      " [44.207733]\n",
      " [44.08002 ]\n",
      " [43.952267]\n",
      " [43.824516]\n",
      " [43.696747]\n",
      " [43.568966]\n",
      " [43.44119 ]\n",
      " [43.313374]\n",
      " [43.18557 ]\n",
      " [43.057724]\n",
      " [42.929905]\n",
      " [42.802044]\n",
      " [42.67419 ]\n",
      " [42.546318]\n",
      " [42.418415]\n",
      " [42.290527]\n",
      " [42.1626  ]\n",
      " [42.03468 ]\n",
      " [41.906742]\n",
      " [41.778805]\n",
      " [41.650864]\n",
      " [41.522903]\n",
      " [41.394947]\n",
      " [41.26696 ]\n",
      " [41.138973]\n",
      " [41.010975]\n",
      " [40.88297 ]\n",
      " [40.754944]\n",
      " [40.626907]\n",
      " [40.49886 ]\n",
      " [40.370815]\n",
      " [40.242752]\n",
      " [40.114674]\n",
      " [39.986595]\n",
      " [39.858505]\n",
      " [39.730404]\n",
      " [39.602287]\n",
      " [39.474163]\n",
      " [39.34605 ]\n",
      " [39.217915]\n",
      " [39.08978 ]\n",
      " [38.96164 ]\n",
      " [38.833492]\n",
      " [38.705334]\n",
      " [38.57715 ]\n",
      " [38.448963]\n",
      " [38.320755]\n",
      " [38.192554]\n",
      " [38.06435 ]\n",
      " [37.93614 ]\n",
      " [37.807926]\n",
      " [37.42507 ]\n",
      " [37.296837]\n",
      " [37.168564]\n",
      " [37.040283]\n",
      " [36.912018]\n",
      " [36.783707]\n",
      " [36.65541 ]\n",
      " [36.527077]\n",
      " [36.39876 ]\n",
      " [36.27042 ]\n",
      " [36.14206 ]\n",
      " [36.01368 ]\n",
      " [35.885277]\n",
      " [35.756897]\n",
      " [35.62849 ]\n",
      " [35.500088]\n",
      " [35.37166 ]\n",
      " [35.243233]\n",
      " [35.114807]\n",
      " [34.98636 ]\n",
      " [34.85793 ]\n",
      " [34.729465]\n",
      " [34.60104 ]\n",
      " [34.47256 ]\n",
      " [34.34411 ]\n",
      " [34.215633]\n",
      " [34.087147]\n",
      " [33.95866 ]\n",
      " [33.830162]\n",
      " [33.701668]\n",
      " [33.573154]\n",
      " [33.444668]\n",
      " [33.31616 ]\n",
      " [33.18764 ]\n",
      " [33.05912 ]\n",
      " [32.930588]\n",
      " [32.80206 ]\n",
      " [32.6735  ]\n",
      " [32.544964]\n",
      " [32.41638 ]\n",
      " [32.28783 ]\n",
      " [32.159256]\n",
      " [32.03068 ]\n",
      " [31.90209 ]\n",
      " [31.773474]\n",
      " [31.64488 ]\n",
      " [31.51625 ]\n",
      " [31.38762 ]\n",
      " [31.258966]\n",
      " [31.130342]\n",
      " [31.001719]\n",
      " [30.87307 ]\n",
      " [30.744432]\n",
      " [30.615763]\n",
      " [30.487114]\n",
      " [30.358454]\n",
      " [30.229797]\n",
      " [30.10113 ]]\n"
     ]
    }
   ],
   "source": [
    "polygon_points = [(100.0, 30.0), (120.0, 30.0), (120.0, 50.0), (100.0, 50.0)]\n",
    "print(polygon_points[0][0])\n",
    "\n",
    "#Test the polygon function with a polygon and one of the data files\n",
    "filtered_points = polygon(polygon_points, file_list[0])\n",
    "\n",
    "print(filtered_points.GEO_LAT.values)"
   ]
  },
  {
   "cell_type": "markdown",
   "metadata": {},
   "source": [
    "The following provides functionalities to find files by orbit number in a DataFrame, extract geographical coordinates from HDF5 files, and filter these coordinates within a specific bounding box.\n",
    "\n"
   ]
  },
  {
   "cell_type": "markdown",
   "metadata": {},
   "source": [
    "### Finding a File by Orbit Number"
   ]
  },
  {
   "cell_type": "code",
   "execution_count": null,
   "metadata": {},
   "outputs": [],
   "source": [
    "def find_file_by_orbit(df, orbit_nr):\n",
    "    return df[df['orbit_nr'] == orbit_nr]"
   ]
  },
  {
   "cell_type": "markdown",
   "metadata": {},
   "source": [
    "- **purpose**: This function filters a DataFrame to find rows that match a specified orbit number.-\n",
    "- **Parameters**:\n",
    "    - *df* (pandas.DataFrame): The DataFrame containing orbit data.\n",
    "    - *orbit_nr* (int): The orbit number to filter by.\n",
    "- **Returns**: A DataFrame containing only the rows where the orbit_nr column matches the specified orbit number."
   ]
  },
  {
   "cell_type": "markdown",
   "metadata": {},
   "source": [
    "### Extracting Coordinates from HDF5 File"
   ]
  },
  {
   "cell_type": "code",
   "execution_count": null,
   "metadata": {},
   "outputs": [],
   "source": [
    "# We will use th h5py package for read the file and estract the coordinates\n",
    "def extract_coordinates(file_name):\n",
    "    with h5py.File(file_name, 'r') as f:\n",
    "        latitudes = f['GEO_LAT'][:]\n",
    "        longitudes = f['GEO_LON'][:]\n",
    "        coordinates = np.column_stack((longitudes, latitudes))\n",
    "    return coordinates"
   ]
  },
  {
   "cell_type": "markdown",
   "metadata": {},
   "source": [
    "- **purpose**: This function reads geographical coordinates (latitude and longitude) from an HDF5 file and returns them as a NumPy array.\n",
    "- **Parameters**:\n",
    "    - *file_name* (str): The name of the HDF5 file to read.\n",
    "- **Returns**: A NumPy array of shape (N, 2) where N is the number of coordinate pairs, containing longitude and latitude pairs."
   ]
  },
  {
   "cell_type": "markdown",
   "metadata": {},
   "source": [
    "### Filtering Coordinates Within a Bounding Box"
   ]
  },
  {
   "cell_type": "code",
   "execution_count": null,
   "metadata": {},
   "outputs": [],
   "source": [
    "# filtering the coordinates\n",
    "def filter_coordinates_in_bbox(coords, bbox):\n",
    "    points_in_box = [coord for coord in coords if bbox.contains(Point(coord))]\n",
    "    for coord in points_in_box:\n",
    "        print(f\"[{coord[0]}] [{coord[1]}]\")\n",
    "    return points_in_box"
   ]
  },
  {
   "cell_type": "markdown",
   "metadata": {},
   "source": [
    "- **Purpose**: This function filters a list of coordinates to only include those that lie within a specified bounding box.\n",
    "- **Parameters**:\n",
    "    - *coords* (list or numpy.ndarray): A list or array of coordinate pairs (longitude, latitude).\n",
    "    - *bbox* (shapely.geometry.box): A bounding box to filter coordinates.\n",
    "- **Returns**: A list of coordinates that are within the bounding box. Each coordinate is a tuple (longitude, latitude)."
   ]
  },
  {
   "cell_type": "code",
   "execution_count": null,
   "metadata": {},
   "outputs": [],
   "source": [
    "bbox = box(-55.85, -69.4844, -106.0156, 69.5816 )\n",
    "\n",
    "orbit_coords = extract_coordinates(file_list[3])\n",
    "print(orbit_coords)\n",
    "\n",
    "filtered_coords = filter_coordinates_in_bbox(orbit_coords, bbox)"
   ]
  },
  {
   "cell_type": "code",
   "execution_count": null,
   "metadata": {},
   "outputs": [],
   "source": []
  }
 ],
 "metadata": {
  "kernelspec": {
   "display_name": ".venv",
   "language": "python",
   "name": "python3"
  },
  "language_info": {
   "codemirror_mode": {
    "name": "ipython",
    "version": 3
   },
   "file_extension": ".py",
   "mimetype": "text/x-python",
   "name": "python",
   "nbconvert_exporter": "python",
   "pygments_lexer": "ipython3",
   "version": "3.12.3"
  }
 },
 "nbformat": 4,
 "nbformat_minor": 2
}
